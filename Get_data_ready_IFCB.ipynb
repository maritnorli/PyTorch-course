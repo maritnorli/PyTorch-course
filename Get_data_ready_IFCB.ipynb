{
  "nbformat": 4,
  "nbformat_minor": 0,
  "metadata": {
    "colab": {
      "provenance": [],
      "gpuType": "T4",
      "authorship_tag": "ABX9TyMZzQ+hZITauhP/8l1hBsBt",
      "include_colab_link": true
    },
    "kernelspec": {
      "name": "python3",
      "display_name": "Python 3"
    },
    "language_info": {
      "name": "python"
    },
    "accelerator": "GPU"
  },
  "cells": [
    {
      "cell_type": "markdown",
      "metadata": {
        "id": "view-in-github",
        "colab_type": "text"
      },
      "source": [
        "<a href=\"https://colab.research.google.com/github/maritnorli/IFCB_CNN_Classify/blob/main/Get_data_ready_IFCB.ipynb\" target=\"_parent\"><img src=\"https://colab.research.google.com/assets/colab-badge.svg\" alt=\"Open In Colab\"/></a>"
      ]
    },
    {
      "cell_type": "markdown",
      "source": [
        "### Connect to T4!!"
      ],
      "metadata": {
        "id": "xqg3dwThC9Yq"
      }
    },
    {
      "cell_type": "code",
      "execution_count": 1,
      "metadata": {
        "colab": {
          "base_uri": "https://localhost:8080/"
        },
        "id": "cGqGLkejC6pq",
        "outputId": "fffda613-e9ac-4061-8036-8934c882a3a4"
      },
      "outputs": [
        {
          "output_type": "stream",
          "name": "stdout",
          "text": [
            "Mounted at /content/drive\n"
          ]
        }
      ],
      "source": [
        "from google.colab import drive\n",
        "drive.mount('/content/drive')\n",
        "#Wat a minute before it shows"
      ]
    },
    {
      "cell_type": "code",
      "source": [
        "from pathlib import Path\n",
        "\n",
        "# Set data paths\n",
        "data_path = Path(\"/content/drive/MyDrive/IFCB/data/\")\n",
        "image_path = Path(\"/content/drive/MyDrive/IFCB/data/IFCB_test_train\")\n",
        "\n",
        "# Setup main dirs for test and train, all classes should have folders diectly under here\n",
        "train_dir = image_path / \"Train\"\n",
        "test_dir = image_path / \"Test\"\n",
        "\n"
      ],
      "metadata": {
        "id": "D3dRLyS3DewE"
      },
      "execution_count": 2,
      "outputs": []
    },
    {
      "cell_type": "code",
      "source": [
        "import os\n",
        "import random\n",
        "import shutil\n",
        "\n",
        "def split_images(folder_path, split_ratio=0.8):\n",
        "    # Create Train and Test folders within Google Drive\n",
        "    train_folder = os.path.join(train_dir, os.path.basename(folder_path))\n",
        "    test_folder = os.path.join(test_dir, os.path.basename(folder_path))\n",
        "\n",
        "    #train_folder = os.path.join('/content/drive/MyDrive/IFCB/data/IFCB_test_train/Train', os.path.basename(folder_path))\n",
        "    #test_folder = os.path.join('/content/drive/MyDrive/IFCB/data/IFCB_test_train/Test', os.path.basename(folder_path))\n",
        "    os.makedirs(train_folder, exist_ok=True)\n",
        "    os.makedirs(test_folder, exist_ok=True)\n",
        "\n",
        "    # Get list of image files\n",
        "    image_files = [f for f in os.listdir(folder_path) if f.endswith('.png')]\n",
        "    num_images = len(image_files)\n",
        "\n",
        "    # Calculate number of images for Train and Test\n",
        "    num_train = int(num_images * split_ratio)\n",
        "    num_test = num_images - num_train\n",
        "\n",
        "    # Shuffle the list of image files\n",
        "    random.shuffle(image_files)\n",
        "\n",
        "    # Copy images to Train and Test folders\n",
        "    for i, image_file in enumerate(image_files):\n",
        "        src = os.path.join(folder_path, image_file)\n",
        "        if i < num_train:\n",
        "            dst = os.path.join(train_folder, image_file)\n",
        "        else:\n",
        "            dst = os.path.join(test_folder, image_file)\n",
        "        shutil.copy(src, dst)\n",
        "\n",
        "    print(\"Splitting completed. Train folder contains {} images, Test folder contains {} images.\".format(num_train, num_test))\n",
        "\n",
        "# Example usage\n",
        "#split_images(\"/content/drive/MyDrive/IFCB/data/images/Achnathes_like_129\")"
      ],
      "metadata": {
        "id": "LP1ZcqE6LNKI"
      },
      "execution_count": 3,
      "outputs": []
    },
    {
      "cell_type": "code",
      "source": [
        "def process_folders(images_dir):\n",
        "    for folder_name in os.listdir(images_dir):\n",
        "        folder_path = os.path.join(images_dir, folder_name)\n",
        "        if os.path.isdir(folder_path):\n",
        "            split_images(folder_path)\n",
        "\n"
      ],
      "metadata": {
        "id": "9U8MqDJlIXwA"
      },
      "execution_count": 4,
      "outputs": []
    },
    {
      "cell_type": "code",
      "source": [
        "# Call the function with the images directory\n",
        "process_folders(\"/content/drive/MyDrive/IFCB/data/images\")"
      ],
      "metadata": {
        "colab": {
          "base_uri": "https://localhost:8080/"
        },
        "id": "SxhiRI31IqNZ",
        "outputId": "09fdd594-a8b9-4209-e5db-6a0edd40ea09"
      },
      "execution_count": 5,
      "outputs": [
        {
          "output_type": "stream",
          "name": "stdout",
          "text": [
            "Splitting completed. Train folder contains 21 images, Test folder contains 6 images.\n",
            "Splitting completed. Train folder contains 4 images, Test folder contains 1 images.\n",
            "Splitting completed. Train folder contains 13 images, Test folder contains 4 images.\n",
            "Splitting completed. Train folder contains 58 images, Test folder contains 15 images.\n",
            "Splitting completed. Train folder contains 37 images, Test folder contains 10 images.\n",
            "Splitting completed. Train folder contains 33 images, Test folder contains 9 images.\n",
            "Splitting completed. Train folder contains 67 images, Test folder contains 17 images.\n",
            "Splitting completed. Train folder contains 303 images, Test folder contains 76 images.\n",
            "Splitting completed. Train folder contains 9 images, Test folder contains 3 images.\n",
            "Splitting completed. Train folder contains 115 images, Test folder contains 29 images.\n",
            "Splitting completed. Train folder contains 166 images, Test folder contains 42 images.\n",
            "Splitting completed. Train folder contains 19 images, Test folder contains 5 images.\n",
            "Splitting completed. Train folder contains 382 images, Test folder contains 96 images.\n",
            "Splitting completed. Train folder contains 265 images, Test folder contains 67 images.\n",
            "Splitting completed. Train folder contains 98 images, Test folder contains 25 images.\n",
            "Splitting completed. Train folder contains 9 images, Test folder contains 3 images.\n",
            "Splitting completed. Train folder contains 330 images, Test folder contains 83 images.\n",
            "Splitting completed. Train folder contains 7 images, Test folder contains 2 images.\n",
            "Splitting completed. Train folder contains 45 images, Test folder contains 12 images.\n",
            "Splitting completed. Train folder contains 72 images, Test folder contains 19 images.\n",
            "Splitting completed. Train folder contains 30 images, Test folder contains 8 images.\n",
            "Splitting completed. Train folder contains 50 images, Test folder contains 13 images.\n",
            "Splitting completed. Train folder contains 209 images, Test folder contains 53 images.\n",
            "Splitting completed. Train folder contains 318 images, Test folder contains 80 images.\n",
            "Splitting completed. Train folder contains 496 images, Test folder contains 125 images.\n",
            "Splitting completed. Train folder contains 142 images, Test folder contains 36 images.\n",
            "Splitting completed. Train folder contains 16 images, Test folder contains 4 images.\n",
            "Splitting completed. Train folder contains 19 images, Test folder contains 5 images.\n",
            "Splitting completed. Train folder contains 15 images, Test folder contains 4 images.\n",
            "Splitting completed. Train folder contains 298 images, Test folder contains 75 images.\n",
            "Splitting completed. Train folder contains 4 images, Test folder contains 2 images.\n",
            "Splitting completed. Train folder contains 53 images, Test folder contains 14 images.\n",
            "Splitting completed. Train folder contains 318 images, Test folder contains 80 images.\n",
            "Splitting completed. Train folder contains 322 images, Test folder contains 81 images.\n",
            "Splitting completed. Train folder contains 192 images, Test folder contains 48 images.\n",
            "Splitting completed. Train folder contains 60 images, Test folder contains 15 images.\n",
            "Splitting completed. Train folder contains 271 images, Test folder contains 68 images.\n",
            "Splitting completed. Train folder contains 178 images, Test folder contains 45 images.\n",
            "Splitting completed. Train folder contains 294 images, Test folder contains 74 images.\n",
            "Splitting completed. Train folder contains 238 images, Test folder contains 60 images.\n",
            "Splitting completed. Train folder contains 52 images, Test folder contains 14 images.\n",
            "Splitting completed. Train folder contains 45 images, Test folder contains 12 images.\n",
            "Splitting completed. Train folder contains 19 images, Test folder contains 5 images.\n",
            "Splitting completed. Train folder contains 8 images, Test folder contains 2 images.\n",
            "Splitting completed. Train folder contains 240 images, Test folder contains 60 images.\n",
            "Splitting completed. Train folder contains 320 images, Test folder contains 80 images.\n",
            "Splitting completed. Train folder contains 208 images, Test folder contains 53 images.\n",
            "Splitting completed. Train folder contains 7 images, Test folder contains 2 images.\n",
            "Splitting completed. Train folder contains 1 images, Test folder contains 1 images.\n",
            "Splitting completed. Train folder contains 249 images, Test folder contains 63 images.\n",
            "Splitting completed. Train folder contains 13 images, Test folder contains 4 images.\n",
            "Splitting completed. Train folder contains 293 images, Test folder contains 74 images.\n",
            "Splitting completed. Train folder contains 36 images, Test folder contains 10 images.\n",
            "Splitting completed. Train folder contains 88 images, Test folder contains 23 images.\n",
            "Splitting completed. Train folder contains 76 images, Test folder contains 20 images.\n",
            "Splitting completed. Train folder contains 242 images, Test folder contains 61 images.\n",
            "Splitting completed. Train folder contains 348 images, Test folder contains 87 images.\n",
            "Splitting completed. Train folder contains 93 images, Test folder contains 24 images.\n",
            "Splitting completed. Train folder contains 196 images, Test folder contains 49 images.\n",
            "Splitting completed. Train folder contains 200 images, Test folder contains 50 images.\n",
            "Splitting completed. Train folder contains 168 images, Test folder contains 42 images.\n",
            "Splitting completed. Train folder contains 11 images, Test folder contains 3 images.\n",
            "Splitting completed. Train folder contains 192 images, Test folder contains 49 images.\n",
            "Splitting completed. Train folder contains 77 images, Test folder contains 20 images.\n",
            "Splitting completed. Train folder contains 419 images, Test folder contains 105 images.\n",
            "Splitting completed. Train folder contains 28 images, Test folder contains 8 images.\n",
            "Splitting completed. Train folder contains 67 images, Test folder contains 17 images.\n",
            "Splitting completed. Train folder contains 241 images, Test folder contains 61 images.\n",
            "Splitting completed. Train folder contains 124 images, Test folder contains 31 images.\n",
            "Splitting completed. Train folder contains 168 images, Test folder contains 42 images.\n",
            "Splitting completed. Train folder contains 9 images, Test folder contains 3 images.\n",
            "Splitting completed. Train folder contains 265 images, Test folder contains 67 images.\n",
            "Splitting completed. Train folder contains 25 images, Test folder contains 7 images.\n",
            "Splitting completed. Train folder contains 164 images, Test folder contains 41 images.\n",
            "Splitting completed. Train folder contains 24 images, Test folder contains 7 images.\n",
            "Splitting completed. Train folder contains 220 images, Test folder contains 55 images.\n",
            "Splitting completed. Train folder contains 4 images, Test folder contains 1 images.\n",
            "Splitting completed. Train folder contains 11 images, Test folder contains 3 images.\n",
            "Splitting completed. Train folder contains 80 images, Test folder contains 20 images.\n",
            "Splitting completed. Train folder contains 172 images, Test folder contains 43 images.\n",
            "Splitting completed. Train folder contains 117 images, Test folder contains 30 images.\n",
            "Splitting completed. Train folder contains 94 images, Test folder contains 24 images.\n"
          ]
        }
      ]
    }
  ]
}